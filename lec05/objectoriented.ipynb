{
 "cells": [
  {
   "cell_type": "markdown",
   "metadata": {
    "slideshow": {
     "slide_type": "slide"
    }
   },
   "source": [
    "# Python Lecture 5: Object-Oriented Programming\n",
    "## Jarret Petrillo copyright 2020\n",
    "## AMS 595"
   ]
  },
  {
   "cell_type": "markdown",
   "metadata": {
    "slideshow": {
     "slide_type": "slide"
    }
   },
   "source": [
    "# Today's Goal\n",
    "\n",
    "## How can objects simplify code?\n",
    "\n",
    "1. data encapsulation\n",
    "2. custom methods\n",
    "2. modularity"
   ]
  },
  {
   "cell_type": "markdown",
   "metadata": {
    "slideshow": {
     "slide_type": "slide"
    }
   },
   "source": [
    "# Part 1: Data Encapsulation"
   ]
  },
  {
   "cell_type": "code",
   "execution_count": 1,
   "metadata": {
    "slideshow": {
     "slide_type": "slide"
    }
   },
   "outputs": [
    {
     "name": "stdout",
     "output_type": "stream",
     "text": [
      "0.0 0.0\n"
     ]
    }
   ],
   "source": [
    "class Point:\n",
    "    def __init__(self, x=0.0, y=0.0):\n",
    "        self.x = x\n",
    "        self.y = y\n",
    "    \n",
    "origin = Point()\n",
    "print(origin.x, origin.y)"
   ]
  },
  {
   "cell_type": "markdown",
   "metadata": {
    "slideshow": {
     "slide_type": "slide"
    }
   },
   "source": [
    "# Part 2: Custom Methods"
   ]
  },
  {
   "cell_type": "code",
   "execution_count": 2,
   "metadata": {
    "slideshow": {
     "slide_type": "slide"
    }
   },
   "outputs": [],
   "source": [
    "# let's add points with a new add method.\n",
    "# Point1.add(Point2) should add x,y elements."
   ]
  },
  {
   "cell_type": "code",
   "execution_count": 3,
   "metadata": {},
   "outputs": [],
   "source": [
    "class Point:\n",
    "    def __init__(self, x=0.0, y=0.0):\n",
    "        self.x = x\n",
    "        self.y = y\n",
    "        \n",
    "    def add(self, point):\n",
    "        new_x = self.x + point.x\n",
    "        new_y = self.y + point.y\n",
    "        return Point(new_x, new_y)"
   ]
  },
  {
   "cell_type": "code",
   "execution_count": 4,
   "metadata": {
    "slideshow": {
     "slide_type": "slide"
    }
   },
   "outputs": [
    {
     "name": "stdout",
     "output_type": "stream",
     "text": [
      "4 6\n"
     ]
    }
   ],
   "source": [
    "point1 = Point(1,2)\n",
    "point2 = Point(3,4)\n",
    "p = point1.add(point2)\n",
    "print(p.x, p.y)"
   ]
  },
  {
   "cell_type": "code",
   "execution_count": 5,
   "metadata": {
    "slideshow": {
     "slide_type": "slide"
    }
   },
   "outputs": [],
   "source": [
    "# print( point )"
   ]
  },
  {
   "cell_type": "code",
   "execution_count": 6,
   "metadata": {
    "slideshow": {
     "slide_type": "slide"
    }
   },
   "outputs": [],
   "source": [
    "class Point:\n",
    "    def __init__(self, x=0.0, y=0.0):\n",
    "        self.x = x\n",
    "        self.y = y\n",
    "        \n",
    "    def add(self, point):\n",
    "        new_x = self.x + point.x\n",
    "        new_y = self.y + point.y\n",
    "        return Point(new_x, new_y)\n",
    "    \n",
    "    def __repr__(self):\n",
    "        return \"({},{})\".format(self.x, self.y)"
   ]
  },
  {
   "cell_type": "code",
   "execution_count": 7,
   "metadata": {
    "slideshow": {
     "slide_type": "slide"
    }
   },
   "outputs": [
    {
     "name": "stdout",
     "output_type": "stream",
     "text": [
      "(1,2)\n"
     ]
    }
   ],
   "source": [
    "point1 = Point(1,2)\n",
    "print(point1)"
   ]
  },
  {
   "cell_type": "markdown",
   "metadata": {
    "slideshow": {
     "slide_type": "slide"
    }
   },
   "source": [
    "### Coordinate data is encapsulated in the Point object.\n",
    "\n",
    "### Object has custom display and a custom method: add."
   ]
  },
  {
   "cell_type": "markdown",
   "metadata": {
    "slideshow": {
     "slide_type": "slide"
    }
   },
   "source": [
    "# Examples - Good Design is Everywhere\n",
    "\n",
    "Do not reinvent a programming style.  Good examples are easy to find.\n",
    "\n",
    "Homework will ask you to find three Python packages."
   ]
  },
  {
   "cell_type": "code",
   "execution_count": 15,
   "metadata": {
    "slideshow": {
     "slide_type": "slide"
    }
   },
   "outputs": [
    {
     "data": {
      "text/plain": [
       "sklearn.linear_model._base.LinearRegression"
      ]
     },
     "execution_count": 15,
     "metadata": {},
     "output_type": "execute_result"
    }
   ],
   "source": [
    "from sklearn import linear_model #sklearn is machine learning module.\n",
    "\n",
    "standard_model = linear_model.LinearRegression()\n",
    "\n",
    "type(standard_model)"
   ]
  },
  {
   "cell_type": "code",
   "execution_count": 30,
   "metadata": {
    "slideshow": {
     "slide_type": "slide"
    }
   },
   "outputs": [
    {
     "data": {
      "text/plain": [
       "array([[1.]])"
      ]
     },
     "execution_count": 30,
     "metadata": {},
     "output_type": "execute_result"
    }
   ],
   "source": [
    "standard_model.fit([[1],[2],[3],[4]],[[1],[2],[3],[4]]) # takes array objects.\n",
    "\n",
    "standard_model.coef_ # perfect. standard_model holds data of regression."
   ]
  },
  {
   "cell_type": "code",
   "execution_count": 37,
   "metadata": {
    "slideshow": {
     "slide_type": "slide"
    }
   },
   "outputs": [
    {
     "data": {
      "text/plain": [
       "numpy.ndarray"
      ]
     },
     "execution_count": 37,
     "metadata": {},
     "output_type": "execute_result"
    }
   ],
   "source": [
    "from numpy import array\n",
    "\n",
    "data = array([1,2,3,4,5]) # a mutable container.  *An array with added methods.\n",
    "\n",
    "# The array object hides functionality.\n",
    "# Under-the-hood there are C-objects that make this object *fast*.\n",
    "\n",
    "type(data)"
   ]
  },
  {
   "cell_type": "markdown",
   "metadata": {
    "slideshow": {
     "slide_type": "slide"
    }
   },
   "source": [
    "# Part 3: Modularity"
   ]
  },
  {
   "cell_type": "markdown",
   "metadata": {
    "slideshow": {
     "slide_type": "slide"
    }
   },
   "source": [
    " mod•u•lar\n",
    "\n",
    " adj. Of, relating to, or based on a module or modulus.\n",
    " \n",
    " adj. Designed with standardized units or dimensions, as for easy assembly and repair or flexible arrangement and use.\n",
    "\n",
    "Modular design assembles complex code in small pieces."
   ]
  },
  {
   "cell_type": "code",
   "execution_count": 38,
   "metadata": {
    "slideshow": {
     "slide_type": "slide"
    }
   },
   "outputs": [],
   "source": [
    "# montecarlo_test.py\n",
    "\n",
    "# from montecarlo import Engine, 2DNumericalIntegration\n",
    "\n",
    "# implementing these objects is the assessment for the Python module."
   ]
  },
  {
   "cell_type": "markdown",
   "metadata": {
    "slideshow": {
     "slide_type": "slide"
    }
   },
   "source": [
    "# Examples of Modularity"
   ]
  },
  {
   "cell_type": "code",
   "execution_count": 41,
   "metadata": {
    "slideshow": {
     "slide_type": "slide"
    }
   },
   "outputs": [
    {
     "name": "stdout",
     "output_type": "stream",
     "text": [
      "Help on package statsmodels.tsa.arima in statsmodels.tsa:\n",
      "\n",
      "NAME\n",
      "    statsmodels.tsa.arima\n",
      "\n",
      "PACKAGE CONTENTS\n",
      "    api\n",
      "    datasets (package)\n",
      "    estimators (package)\n",
      "    model\n",
      "    params\n",
      "    specification\n",
      "    tests (package)\n",
      "    tools\n",
      "\n",
      "FILE\n",
      "    /home/jarret/.local/lib/python3.7/site-packages/statsmodels/tsa/arima/__init__.py\n",
      "\n",
      "\n"
     ]
    }
   ],
   "source": [
    "from statsmodels.tsa import arima #Extremely well-made module.\n",
    "help(arima) # package of time series models\n",
    "# Package has 3 submodules."
   ]
  },
  {
   "cell_type": "markdown",
   "metadata": {
    "slideshow": {
     "slide_type": "slide"
    }
   },
   "source": [
    "# HW\n",
    "\n",
    "There is a huge community of Python developers who share their home-made modules.\n",
    "\n",
    "The repository for user-generated libraries is Python Package Index.\n",
    "\n",
    "https://pypi.org/\n",
    "\n",
    "There are Python libraries in all states of development.\n",
    "\n",
    "As a homework, please find 3 packages *with changes in the last week*:\n",
    "1. Find one that is solid and seems to have a broad development team.\n",
    "2. Find one that is pre-alpha or in the planning stages.\n",
    "3. Find one relevant to scientific computing."
   ]
  }
 ],
 "metadata": {
  "celltoolbar": "Slideshow",
  "kernelspec": {
   "display_name": "Python 3",
   "language": "python",
   "name": "python3"
  },
  "language_info": {
   "codemirror_mode": {
    "name": "ipython",
    "version": 3
   },
   "file_extension": ".py",
   "mimetype": "text/x-python",
   "name": "python",
   "nbconvert_exporter": "python",
   "pygments_lexer": "ipython3",
   "version": "3.7.3"
  }
 },
 "nbformat": 4,
 "nbformat_minor": 2
}
