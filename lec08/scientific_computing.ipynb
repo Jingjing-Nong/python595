{
 "cells": [
  {
   "cell_type": "markdown",
   "metadata": {
    "slideshow": {
     "slide_type": "slide"
    }
   },
   "source": [
    "# Python Lecture 8: Scientific Computing\n",
    "## Jarret Petrillo copyright 2020\n",
    "## AMS 595"
   ]
  },
  {
   "cell_type": "markdown",
   "metadata": {
    "slideshow": {
     "slide_type": "slide"
    }
   },
   "source": [
    "# Learning Goals\n",
    "\n",
    "Review code sample to produce *deterministic chaos*.\n",
    "\n",
    "This involves solving *ordinary differential equations*, a hallmark of scientific computation and computational applied mathematics.\n",
    "\n",
    "References: S. Pope *Turbulent Flows*, ch. 3\n"
   ]
  },
  {
   "cell_type": "markdown",
   "metadata": {
    "slideshow": {
     "slide_type": "slide"
    }
   },
   "source": [
    "# Lorenz System of ODEs\n",
    "\n",
    "See *Chaos* by James Gleick.  It is a great story how a new branch of mathematics was developed to study the non-linear problems classical physicists ignored.\n",
    "\n",
    "*Deterministic* chaos can happen in systems of at least three variables.  Given some starting conditions the outcome after a few steps is *unpredictable*.\n",
    "\n",
    "We will see this in action."
   ]
  },
  {
   "cell_type": "code",
   "execution_count": 36,
   "metadata": {
    "slideshow": {
     "slide_type": "slide"
    }
   },
   "outputs": [],
   "source": [
    "# code credit to Christian Hill @ https://scipython.com\n",
    "import numpy as np\n",
    "from scipy.integrate import odeint\n",
    "import matplotlib.pyplot as plt\n",
    "from mpl_toolkits.mplot3d import Axes3D\n",
    "\n",
    "# Lorenz paramters\n",
    "sigma, beta, rho = 10, 2.667, 28\n",
    "\n",
    "def lorenz(state, t, sigma, beta, rho):\n",
    "    \"\"\"The Lorenz equations.\"\"\"\n",
    "    u, v, w = state # unpack state tuple\n",
    "    u_new = -sigma*(u - v)\n",
    "    v_new = rho*u - v - u*w\n",
    "    w_new = -beta*w + u*v\n",
    "    return u_new, v_new, w_new # return state tuple"
   ]
  },
  {
   "cell_type": "markdown",
   "metadata": {
    "slideshow": {
     "slide_type": "slide"
    }
   },
   "source": [
    "# Numerical Solutions to ODEs\n",
    "\n",
    "A numerical *solution* is not a standard answer from an ODE class.\n",
    "\n",
    "Numerical solutions give the *value of the solution function at predetermined points.*\n",
    "\n",
    "In this case we specify the times for which we would like the state variables (u,v,w). "
   ]
  },
  {
   "cell_type": "code",
   "execution_count": 23,
   "metadata": {},
   "outputs": [
    {
     "name": "stdout",
     "output_type": "stream",
     "text": [
      "[0.00000000e+00 1.00010001e-02 2.00020002e-02 ... 9.99799980e+01\n",
      " 9.99899990e+01 1.00000000e+02]\n"
     ]
    }
   ],
   "source": [
    "# 10,000 steps from 0 to 100\n",
    "times_to_solve = np.linspace(0, 100, 10000) \n",
    "\n",
    "print(times_to_solve) "
   ]
  },
  {
   "cell_type": "code",
   "execution_count": 17,
   "metadata": {
    "slideshow": {
     "slide_type": "slide"
    }
   },
   "outputs": [
    {
     "name": "stdout",
     "output_type": "stream",
     "text": [
      "Help on function odeint in module scipy.integrate.odepack:\n",
      "\n",
      "odeint(func, y0, t, args=(), Dfun=None, col_deriv=0, full_output=0, ml=None, mu=None, rtol=None, atol=None, tcrit=None, h0=0.0, hmax=0.0, hmin=0.0, ixpr=0, mxstep=0, mxhnil=0, mxordn=12, mxords=5, printmessg=0, tfirst=False)\n",
      "    Integrate a system of ordinary differential equations.\n",
      "    \n",
      "    .. note:: For new code, use `scipy.integrate.solve_ivp` to solve a\n",
      "              differential equation.\n",
      "    \n",
      "    Solve a system of ordinary differential equations using lsoda from the\n",
      "    FORTRAN library odepack.\n",
      "    \n",
      "    Solves the initial value problem for stiff or non-stiff systems\n",
      "    of first order ode-s::\n",
      "    \n",
      "        dy/dt = func(y, t, ...)  [or func(t, y, ...)]\n",
      "    \n",
      "    where y can be a vector.\n",
      "    \n",
      "    .. note:: By default, the required order of the first two arguments of\n",
      "              `func` are in the opposite order of the arguments in the system\n",
      "              definition function used by the `scipy.integrate.ode` class and\n",
      "              the function `scipy.integrate.solve_ivp`.  To use a function with\n",
      "              the signature ``func(t, y, ...)``, the argument `tfirst` must be\n",
      "              set to ``True``.\n",
      "    \n",
      "    Parameters\n",
      "    ----------\n",
      "    func : callable(y, t, ...) or callable(t, y, ...)\n",
      "        Computes the derivative of y at t.\n",
      "        If the signature is ``callable(t, y, ...)``, then the argument\n",
      "        `tfirst` must be set ``True``.\n",
      "    y0 : array\n",
      "        Initial condition on y (can be a vector).\n",
      "    t : array\n",
      "        A sequence of time points for which to solve for y.  The initial\n",
      "        value point should be the first element of this sequence.\n",
      "        This sequence must be monotonically increasing or monotonically\n",
      "        decreasing; repeated values are allowed.\n",
      "    args : tuple, optional\n",
      "        Extra arguments to pass to function.\n",
      "    Dfun : callable(y, t, ...) or callable(t, y, ...)\n",
      "        Gradient (Jacobian) of `func`.\n",
      "        If the signature is ``callable(t, y, ...)``, then the argument\n",
      "        `tfirst` must be set ``True``.\n",
      "    col_deriv : bool, optional\n",
      "        True if `Dfun` defines derivatives down columns (faster),\n",
      "        otherwise `Dfun` should define derivatives across rows.\n",
      "    full_output : bool, optional\n",
      "        True if to return a dictionary of optional outputs as the second output\n",
      "    printmessg : bool, optional\n",
      "        Whether to print the convergence message\n",
      "    tfirst: bool, optional\n",
      "        If True, the first two arguments of `func` (and `Dfun`, if given)\n",
      "        must ``t, y`` instead of the default ``y, t``.\n",
      "    \n",
      "        .. versionadded:: 1.1.0\n",
      "    \n",
      "    Returns\n",
      "    -------\n",
      "    y : array, shape (len(t), len(y0))\n",
      "        Array containing the value of y for each desired time in t,\n",
      "        with the initial value `y0` in the first row.\n",
      "    infodict : dict, only returned if full_output == True\n",
      "        Dictionary containing additional output information\n",
      "    \n",
      "        =======  ============================================================\n",
      "        key      meaning\n",
      "        =======  ============================================================\n",
      "        'hu'     vector of step sizes successfully used for each time step.\n",
      "        'tcur'   vector with the value of t reached for each time step.\n",
      "                 (will always be at least as large as the input times).\n",
      "        'tolsf'  vector of tolerance scale factors, greater than 1.0,\n",
      "                 computed when a request for too much accuracy was detected.\n",
      "        'tsw'    value of t at the time of the last method switch\n",
      "                 (given for each time step)\n",
      "        'nst'    cumulative number of time steps\n",
      "        'nfe'    cumulative number of function evaluations for each time step\n",
      "        'nje'    cumulative number of jacobian evaluations for each time step\n",
      "        'nqu'    a vector of method orders for each successful step.\n",
      "        'imxer'  index of the component of largest magnitude in the\n",
      "                 weighted local error vector (e / ewt) on an error return, -1\n",
      "                 otherwise.\n",
      "        'lenrw'  the length of the double work array required.\n",
      "        'leniw'  the length of integer work array required.\n",
      "        'mused'  a vector of method indicators for each successful time step:\n",
      "                 1: adams (nonstiff), 2: bdf (stiff)\n",
      "        =======  ============================================================\n",
      "    \n",
      "    Other Parameters\n",
      "    ----------------\n",
      "    ml, mu : int, optional\n",
      "        If either of these are not None or non-negative, then the\n",
      "        Jacobian is assumed to be banded.  These give the number of\n",
      "        lower and upper non-zero diagonals in this banded matrix.\n",
      "        For the banded case, `Dfun` should return a matrix whose\n",
      "        rows contain the non-zero bands (starting with the lowest diagonal).\n",
      "        Thus, the return matrix `jac` from `Dfun` should have shape\n",
      "        ``(ml + mu + 1, len(y0))`` when ``ml >=0`` or ``mu >=0``.\n",
      "        The data in `jac` must be stored such that ``jac[i - j + mu, j]``\n",
      "        holds the derivative of the `i`th equation with respect to the `j`th\n",
      "        state variable.  If `col_deriv` is True, the transpose of this\n",
      "        `jac` must be returned.\n",
      "    rtol, atol : float, optional\n",
      "        The input parameters `rtol` and `atol` determine the error\n",
      "        control performed by the solver.  The solver will control the\n",
      "        vector, e, of estimated local errors in y, according to an\n",
      "        inequality of the form ``max-norm of (e / ewt) <= 1``,\n",
      "        where ewt is a vector of positive error weights computed as\n",
      "        ``ewt = rtol * abs(y) + atol``.\n",
      "        rtol and atol can be either vectors the same length as y or scalars.\n",
      "        Defaults to 1.49012e-8.\n",
      "    tcrit : ndarray, optional\n",
      "        Vector of critical points (e.g. singularities) where integration\n",
      "        care should be taken.\n",
      "    h0 : float, (0: solver-determined), optional\n",
      "        The step size to be attempted on the first step.\n",
      "    hmax : float, (0: solver-determined), optional\n",
      "        The maximum absolute step size allowed.\n",
      "    hmin : float, (0: solver-determined), optional\n",
      "        The minimum absolute step size allowed.\n",
      "    ixpr : bool, optional\n",
      "        Whether to generate extra printing at method switches.\n",
      "    mxstep : int, (0: solver-determined), optional\n",
      "        Maximum number of (internally defined) steps allowed for each\n",
      "        integration point in t.\n",
      "    mxhnil : int, (0: solver-determined), optional\n",
      "        Maximum number of messages printed.\n",
      "    mxordn : int, (0: solver-determined), optional\n",
      "        Maximum order to be allowed for the non-stiff (Adams) method.\n",
      "    mxords : int, (0: solver-determined), optional\n",
      "        Maximum order to be allowed for the stiff (BDF) method.\n",
      "    \n",
      "    See Also\n",
      "    --------\n",
      "    solve_ivp : Solve an initial value problem for a system of ODEs.\n",
      "    ode : a more object-oriented integrator based on VODE.\n",
      "    quad : for finding the area under a curve.\n",
      "    \n",
      "    Examples\n",
      "    --------\n",
      "    The second order differential equation for the angle `theta` of a\n",
      "    pendulum acted on by gravity with friction can be written::\n",
      "    \n",
      "        theta''(t) + b*theta'(t) + c*sin(theta(t)) = 0\n",
      "    \n",
      "    where `b` and `c` are positive constants, and a prime (') denotes a\n",
      "    derivative.  To solve this equation with `odeint`, we must first convert\n",
      "    it to a system of first order equations.  By defining the angular\n",
      "    velocity ``omega(t) = theta'(t)``, we obtain the system::\n",
      "    \n",
      "        theta'(t) = omega(t)\n",
      "        omega'(t) = -b*omega(t) - c*sin(theta(t))\n",
      "    \n",
      "    Let `y` be the vector [`theta`, `omega`].  We implement this system\n",
      "    in python as:\n",
      "    \n",
      "    >>> def pend(y, t, b, c):\n",
      "    ...     theta, omega = y\n",
      "    ...     dydt = [omega, -b*omega - c*np.sin(theta)]\n",
      "    ...     return dydt\n",
      "    ...\n",
      "    \n",
      "    We assume the constants are `b` = 0.25 and `c` = 5.0:\n",
      "    \n",
      "    >>> b = 0.25\n",
      "    >>> c = 5.0\n",
      "    \n",
      "    For initial conditions, we assume the pendulum is nearly vertical\n",
      "    with `theta(0)` = `pi` - 0.1, and is initially at rest, so\n",
      "    `omega(0)` = 0.  Then the vector of initial conditions is\n",
      "    \n",
      "    >>> y0 = [np.pi - 0.1, 0.0]\n",
      "    \n",
      "    We will generate a solution at 101 evenly spaced samples in the interval\n",
      "    0 <= `t` <= 10.  So our array of times is:\n",
      "    \n",
      "    >>> t = np.linspace(0, 10, 101)\n",
      "    \n",
      "    Call `odeint` to generate the solution.  To pass the parameters\n",
      "    `b` and `c` to `pend`, we give them to `odeint` using the `args`\n",
      "    argument.\n",
      "    \n",
      "    >>> from scipy.integrate import odeint\n",
      "    >>> sol = odeint(pend, y0, t, args=(b, c))\n",
      "    \n",
      "    The solution is an array with shape (101, 2).  The first column\n",
      "    is `theta(t)`, and the second is `omega(t)`.  The following code\n",
      "    plots both components.\n",
      "    \n",
      "    >>> import matplotlib.pyplot as plt\n",
      "    >>> plt.plot(t, sol[:, 0], 'b', label='theta(t)')\n",
      "    >>> plt.plot(t, sol[:, 1], 'g', label='omega(t)')\n",
      "    >>> plt.legend(loc='best')\n",
      "    >>> plt.xlabel('t')\n",
      "    >>> plt.grid()\n",
      "    >>> plt.show()\n",
      "\n"
     ]
    }
   ],
   "source": [
    "help(odeint)"
   ]
  },
  {
   "cell_type": "code",
   "execution_count": 37,
   "metadata": {
    "slideshow": {
     "slide_type": "slide"
    }
   },
   "outputs": [
    {
     "name": "stdout",
     "output_type": "stream",
     "text": [
      "<class 'numpy.ndarray'>\n",
      "(10000,)\n"
     ]
    }
   ],
   "source": [
    "# initial conditions\n",
    "u0, v0, w0 = 0, 1, 1.05\n",
    "\n",
    "f = odeint(lorenz, (u0, v0, w0), times_to_solve, args=(sigma, beta, rho))\n",
    "u_alltime, v_alltime, w_alltime = f.T\n",
    "\n",
    "print(type(u_alltime))\n",
    "print(u_alltime.shape) #10,000 matches number inputs"
   ]
  },
  {
   "cell_type": "code",
   "execution_count": 35,
   "metadata": {},
   "outputs": [
    {
     "data": {
      "text/plain": [
       "[<matplotlib.lines.Line2D at 0x7f19f8d325f8>]"
      ]
     },
     "execution_count": 35,
     "metadata": {},
     "output_type": "execute_result"
    },
    {
     "data": {
      "image/png": "[encoded data removed]",
      "text/plain": [
       "<Figure size 432x288 with 1 Axes>"
      ]
     },
     "metadata": {
      "needs_background": "light"
     },
     "output_type": "display_data"
    }
   ],
   "source": [
    "plt.plot(u_alltime)"
   ]
  },
  {
   "cell_type": "code",
   "execution_count": null,
   "metadata": {},
   "outputs": [],
   "source": []
  },
  {
   "cell_type": "markdown",
   "metadata": {
    "slideshow": {
     "slide_type": "slide"
    }
   },
   "source": [
    "# \"A butterfly flapping its wings can cause a hurrican on the other side of the world...\"\n",
    "\n",
    "This is chaos!\n",
    "\n",
    "Small changes in initial conditions can have big effects.\n",
    "\n",
    "We test this.\n"
   ]
  },
  {
   "cell_type": "code",
   "execution_count": 38,
   "metadata": {
    "slideshow": {
     "slide_type": "slide"
    }
   },
   "outputs": [],
   "source": [
    "# first initial conditions \n",
    "u0, v0, w0 = 0, 1, 1.05\n",
    "\n",
    "# new initial conditions\n",
    "u1, v1, w1 = 0.0000001, 1, 1.05"
   ]
  },
  {
   "cell_type": "code",
   "execution_count": 40,
   "metadata": {
    "slideshow": {
     "slide_type": "slide"
    }
   },
   "outputs": [],
   "source": [
    "f = odeint(lorenz, (u1, v1, w1), times_to_solve, args=(sigma, beta, rho))\n",
    "u1_alltime, v1_alltime, w1_alltime = f.T\n"
   ]
  },
  {
   "cell_type": "markdown",
   "metadata": {
    "slideshow": {
     "slide_type": "slide"
    }
   },
   "source": [
    "# Will there be a big difference in u from the first and second initial conditions?\n",
    "\n",
    "Mind the difference is 10e-7.\n",
    "\n",
    "These types of measurement errors could be anywhere.\n",
    "\n",
    "We compare the difference: u_alltime - u1_alltime"
   ]
  },
  {
   "cell_type": "code",
   "execution_count": 41,
   "metadata": {
    "slideshow": {
     "slide_type": "slide"
    }
   },
   "outputs": [
    {
     "data": {
      "text/plain": [
       "[<matplotlib.lines.Line2D at 0x7f19f79e0b38>]"
      ]
     },
     "execution_count": 41,
     "metadata": {},
     "output_type": "execute_result"
    },
    {
     "data": {
      "image/png": "[encoded data removed]",
      "text/plain": [
       "<Figure size 432x288 with 1 Axes>"
      ]
     },
     "metadata": {
      "needs_background": "light"
     },
     "output_type": "display_data"
    }
   ],
   "source": [
    "plt.plot(u_alltime-u1_alltime)"
   ]
  },
  {
   "cell_type": "markdown",
   "metadata": {
    "slideshow": {
     "slide_type": "slide"
    }
   },
   "source": [
    "# Result\n",
    "\n",
    "For 25 seconds there is no effect.  But, then their is complete differences.\n",
    "\n",
    "Compare to the first plot.\n",
    "\n",
    "These differences are on the order of magnitude to the original values of u at the initial conditions."
   ]
  },
  {
   "cell_type": "markdown",
   "metadata": {
    "slideshow": {
     "slide_type": "slide"
    }
   },
   "source": [
    "# Statistical Mechanics\n",
    "It is impossible to forecast a chaotic system past a key point in time.  Beyond it, even the smallest changes have wild effects.\n",
    "\n",
    "\"A solution\" is clearly not the goal for studies of chaotic processes because the tiniest measurement error and the solution is a different one.\n",
    "\n",
    "Knowing that *many important processes are chaotic*, what do you think the aim of this research should be?\n"
   ]
  }
 ],
 "metadata": {
  "celltoolbar": "Slideshow",
  "kernelspec": {
   "display_name": "Python 3",
   "language": "python",
   "name": "python3"
  },
  "language_info": {
   "codemirror_mode": {
    "name": "ipython",
    "version": 3
   },
   "file_extension": ".py",
   "mimetype": "text/x-python",
   "name": "python",
   "nbconvert_exporter": "python",
   "pygments_lexer": "ipython3",
   "version": "3.7.3"
  }
 },
 "nbformat": 4,
 "nbformat_minor": 2
}
