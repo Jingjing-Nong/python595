{
 "cells": [
  {
   "cell_type": "markdown",
   "metadata": {
    "slideshow": {
     "slide_type": "slide"
    }
   },
   "source": [
    "# Python Lecture 0: Getting Started\n",
    "## Jarret Petrillo copyright 2020\n",
    "## AMS 595"
   ]
  },
  {
   "cell_type": "markdown",
   "metadata": {
    "slideshow": {
     "slide_type": "slide"
    }
   },
   "source": [
    "# What exactly is a computer?\n",
    "\n",
    "# How can one machine perform so many tasks?"
   ]
  },
  {
   "cell_type": "markdown",
   "metadata": {
    "slideshow": {
     "slide_type": "slide"
    }
   },
   "source": [
    "\n",
    "## ``A Computer is a machine that stores and manipulates information under the control of a changeable program.\" \n",
    "-John Zelle\n",
    "\n",
    "A gas pump is a machine that manipulates information (price of gas, quantity needed), but it only performs one task.\n",
    "\n",
    "Computers by definition run many tasks.  Software is the key."
   ]
  },
  {
   "cell_type": "markdown",
   "metadata": {
    "slideshow": {
     "slide_type": "slide"
    }
   },
   "source": [
    "# What can't a computer do?\n",
    "\n",
    "Some problems are *intractable* or *impossible*.\n",
    "\n",
    "*Intractable* means the problem solution requires too much memory or too much time to run.\n",
    "\n",
    "*Impossible* means no algorithm can exist to solve the task.\n",
    "\n",
    "ref: https://en.wikipedia.org/wiki/Computational_complexity_theory"
   ]
  },
  {
   "cell_type": "markdown",
   "metadata": {
    "slideshow": {
     "slide_type": "slide"
    }
   },
   "source": [
    "# An operating system is software that runs other software. \n",
    "\n",
    "> *python* hello_world.py\n",
    "\n",
    "This command \"python\" runs the file \"hello_world.py\"\n",
    "\n",
    "All the details of this operation are *operating-system specific*.\n",
    "\n",
    "The results are the same: \n",
    "\n",
    "> \"hello world!\"\n"
   ]
  },
  {
   "cell_type": "markdown",
   "metadata": {
    "slideshow": {
     "slide_type": "slide"
    }
   },
   "source": [
    "# Python is a programming language.\n",
    "\n",
    "## Why do we need programming languages?\n",
    "\n",
    "Consider the sentence \"I saw the man in the park with a telescope.\"\n",
    "\n",
    "Who has the telescope?\n",
    "\n",
    "Meaning comes from context and different languages resolve conflicts in different ways."
   ]
  },
  {
   "cell_type": "markdown",
   "metadata": {
    "slideshow": {
     "slide_type": "slide"
    }
   },
   "source": [
    "# Python is a *high-level* programming language.\n",
    "\n",
    "## There are few memory directives.\n",
    "\n",
    "Python is based on an educational-only language called *ABC*.\n",
    "\n",
    "There is a reason it is easy to use.\n",
    "\n",
    "*The goal of the Python module is to not just learn how to use Python, but to learn how to write production code in Python*\n",
    "\n",
    "This is a way higher hurdle.  \"Knowing Python\" means different things to every employer."
   ]
  },
  {
   "cell_type": "markdown",
   "metadata": {
    "slideshow": {
     "slide_type": "slide"
    }
   },
   "source": [
    "# Misconception: Python is ``easy.\"\n",
    "\n",
    "## It is easy to get started, but professional Python programmers have an amazing breadth.\n",
    "\n"
   ]
  },
  {
   "cell_type": "markdown",
   "metadata": {
    "slideshow": {
     "slide_type": "slide"
    }
   },
   "source": [
    "# Python==Breadth\n",
    "\n",
    "    sqlite3 – interacting with SQLite databases\n",
    "    xml – creating and processing XML files\n",
    "    csv – CSV file reading and writing\n",
    "    logging – basics logging facility for Python\n",
    "    configparser – configuration file parser\n",
    "    os – interacting with the operating system,\n",
    "    datetime – manipulating with dates and time\n",
    "    io – working with streams,\n",
    "    time – time access and conversions\n",
    "    math – a basic tool for elementary evaluations\n",
    "    NumPy – fundamental package for scientific computing\n",
    "    SciPy – an ecosystem for mathematics, science, and engineering\n",
    "    Matplotlib – 2D plotting library producing publication quality figures\n",
    "    Pandas – a library providing high-performance and data analysis tools\n",
    "    SciKit-image – a collection of algorithms for image processing\n",
    "    tkinter — Python interface to Tcl/Tk\n",
    "        tkinter’s application life cycle\n",
    "        Widgets, windows and events\n",
    "        Sample applications\n",
    "    pygame – a simple way of developing multimedia applications\n",
    "    PEP 20 – The Zen of Python: a collection of principles that influences the design of Python code\n",
    "    PEP 8 – Style Guide for Python Code: coding conventions for code comprising the standard library in the main Python distribution\n",
    "    PEP 257 – Docstring Conventions: what is docstring and some semantics as well as conventions associated with them\n",
    "    **Object-Oriented** \n"
   ]
  },
  {
   "cell_type": "markdown",
   "metadata": {
    "slideshow": {
     "slide_type": "slide"
    }
   },
   "source": [
    "# There are different versions of Python\n",
    "\n",
    "## The syntax varies.\n",
    "\n",
    "Python 2.7.18 reads Python version 2.7 release 18.\n",
    "\n",
    "Python 2.7 and Python 3.5 are not compatiable.  There was a break, and the syntax changed.\n",
    "\n",
    "We will use *Python 3.8*\n",
    "\n",
    "It is the newest version as of August 2020.\n",
    "\n",
    "history ref: https://en.wikipedia.org/wiki/Python_%28programming_language%29"
   ]
  },
  {
   "cell_type": "markdown",
   "metadata": {
    "slideshow": {
     "slide_type": "slide"
    }
   },
   "source": [
    "# Are there any questions?\n",
    "\n",
    "These materials are available on github at github.com/cfd113311/python595.\n",
    "\n",
    "Please log on to the Python help session Wednesdays 12pm - 1pm EST or use picktime to schedule a one-on-one session 1pm - 2:20pm.\n",
    "\n",
    "Let's get started!"
   ]
  },
  {
   "cell_type": "markdown",
   "metadata": {
    "slideshow": {
     "slide_type": "slide"
    }
   },
   "source": [
    "# Python has a shell\n",
    "\n",
    "> typing *python* opens an interpretated session (\"interpretator\")\n",
    "\n",
    "The shell is a stand-alone interpretator.\n",
    "\n",
    "Python commands executed in the interpretator display their result.\n",
    "\n",
    "When it starts:\n",
    "\n",
    "> Python 3.7.3 (default, Oct  7 2019, 12:56:13) \n",
    "[GCC 8.3.0] on linux\n",
    "Type \"help\", \"copyright\", \"credits\" or \"license\" for more information.\n",
    "\n",
    ":>>> help(print)\n",
    "\n",
    "This is the help screen for the print function.  *help()* is always a friend."
   ]
  },
  {
   "cell_type": "markdown",
   "metadata": {
    "slideshow": {
     "slide_type": "slide"
    }
   },
   "source": [
    "# Interpretator experiments"
   ]
  },
  {
   "cell_type": "markdown",
   "metadata": {
    "slideshow": {
     "slide_type": "slide"
    }
   },
   "source": [
    "# Shell and interpretator versus scripts\n",
    "\n",
    "The function *sum* and *greet* disappear after closing the interpreator.\n",
    "\n",
    "The same happens in the shell.\n",
    "\n",
    "Scripts are *reusable* portions of code that execute an algorithm.\n",
    "\n",
    "The importance is they contain all the instructions for the Python program.\n",
    "\n",
    "\"Interpreter and shell are good for *testing*\"\n",
    "https://www.youtube.com/watch?v=50XxuscFy1I"
   ]
  },
  {
   "cell_type": "markdown",
   "metadata": {
    "slideshow": {
     "slide_type": "slide"
    }
   },
   "source": [
    "# ``run\" a Python script on your own computer before continuing.\n",
    "\n",
    "There are files available next to the slides.\n"
   ]
  },
  {
   "cell_type": "markdown",
   "metadata": {
    "slideshow": {
     "slide_type": "subslide"
    }
   },
   "source": [
    "# Extra 1: Clone the repository from github.\n",
    "\n",
    "## Standard collaboration tools are essential in big projects.\n",
    "\n",
    "Cloning a repository means creating a local version.  We are using github as a dropbox.  In reality *git* is a version control software.\n",
    "\n",
    "Repository hosted at https://github.com/cfd113311/python595\n",
    "\n",
    "Instructions: https://www.wikihow.com/Clone-a-Repository-on-Github\n",
    "\n",
    "(The Git GUI = Grahical User Interface is a nice tool.)"
   ]
  },
  {
   "cell_type": "markdown",
   "metadata": {
    "slideshow": {
     "slide_type": "subslide"
    }
   },
   "source": [
    "# Extra 2: Setup Jupyter Notebook\n",
    "\n",
    "## The slides are jupyter notebooks. \n",
    "\n",
    "It is a nice combination of *shell* and *script*.\n",
    "\n",
    "https://jupyter.org/install"
   ]
  },
  {
   "cell_type": "markdown",
   "metadata": {
    "slideshow": {
     "slide_type": "subslide"
    }
   },
   "source": [
    "# Extra 3: How does ``running'' differ on different operating systems.\n",
    "\n",
    "## 500 of the world's 500 fastest computers use *Linux*\n",
    "\n",
    "## Why?\n",
    "\n",
    "ref: https://en.wikipedia.org/wiki/Operating_system\n",
    "\n",
    "ref: https://en.wikipedia.org/wiki/Computational_science\n",
    "\n",
    "extra ref: https://www.quora.com/Why-does-Linux-seem-so-much-faster-than-Windows?share=1"
   ]
  },
  {
   "cell_type": "markdown",
   "metadata": {
    "slideshow": {
     "slide_type": "slide"
    }
   },
   "source": [
    "# Recap\n",
    "\n",
    "The tools learned today were:\n",
    "1. Big picture computer science\n",
    "2. Python interpretator\n",
    "3. Python scripting\n",
    "\n",
    "The next session is Lecture 1: Python Syntax \n",
    "\n",
    "HW: read PEP 8 https://www.python.org/dev/peps/pep-0008/"
   ]
  }
 ],
 "metadata": {
  "celltoolbar": "Slideshow",
  "kernelspec": {
   "display_name": "Python 3",
   "language": "python",
   "name": "python3"
  },
  "language_info": {
   "codemirror_mode": {
    "name": "ipython",
    "version": 3
   },
   "file_extension": ".py",
   "mimetype": "text/x-python",
   "name": "python",
   "nbconvert_exporter": "python",
   "pygments_lexer": "ipython3",
   "version": "3.7.3"
  }
 },
 "nbformat": 4,
 "nbformat_minor": 2
}
