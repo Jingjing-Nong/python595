{
 "cells": [
  {
   "cell_type": "markdown",
   "metadata": {
    "slideshow": {
     "slide_type": "slide"
    }
   },
   "source": [
    "# Python Lecture 3: I/O, System-Level, and Plotting\n",
    "## Jarret Petrillo copyright 2020\n",
    "## AMS 595"
   ]
  },
  {
   "cell_type": "markdown",
   "metadata": {
    "slideshow": {
     "slide_type": "slide"
    }
   },
   "source": [
    "# Overview\n",
    "\n",
    "## Inputs are:\n",
    "\n",
    "1. command-line input.\n",
    "2. direct user input.\n",
    "3. file read input.\n",
    "\n",
    "## Outputs are:\n",
    "\n",
    "1. print output.\n",
    "2. file output.\n",
    "3. \"pickled\" objects.\n",
    "\n",
    "## Systems-level mechanics are:\n",
    "\n",
    "1. interacting with the filesystem.\n",
    "2. manipulating filenames.\n",
    "\n",
    "## Plotting:"
   ]
  },
  {
   "cell_type": "markdown",
   "metadata": {
    "slideshow": {
     "slide_type": "slide"
    }
   },
   "source": [
    "# Part 1\n",
    "\n",
    "1. Command-line input.\n",
    "2. interacting with the filesystem.\n",
    "3. manipulating filenames.\n",
    "\n"
   ]
  },
  {
   "cell_type": "markdown",
   "metadata": {
    "slideshow": {
     "slide_type": "slide"
    }
   },
   "source": [
    "# ls.py\n",
    "\n",
    "python ls.py filename\n",
    "\n",
    "This script will check the current directory for a file named \"filename.\"\n",
    "\n",
    "If it is there, it will print, \"found it!\"\n",
    "\n",
    "Otherwise, it will print, \"not found.\"\n"
   ]
  },
  {
   "cell_type": "code",
   "execution_count": null,
   "metadata": {
    "slideshow": {
     "slide_type": "slide"
    }
   },
   "outputs": [],
   "source": [
    "# test.py\n",
    "\n",
    "import sys\n",
    "\n",
    "if __name__ == \"__main__\":\n",
    "    print(sys.argv)\n",
    "    "
   ]
  },
  {
   "cell_type": "code",
   "execution_count": null,
   "metadata": {
    "slideshow": {
     "slide_type": "slide"
    }
   },
   "outputs": [],
   "source": [
    "# python test.py 2313 312 123\n",
    "\n",
    "# ['test.py', '2313', '312', '123']"
   ]
  },
  {
   "cell_type": "code",
   "execution_count": null,
   "metadata": {
    "slideshow": {
     "slide_type": "slide"
    }
   },
   "outputs": [],
   "source": [
    "type(sys.argv)"
   ]
  },
  {
   "cell_type": "code",
   "execution_count": null,
   "metadata": {},
   "outputs": [],
   "source": [
    "# test2.py\n",
    "\n",
    "import sys\n",
    "\n",
    "if __name__ == \"__main__\":\n",
    "    print([type(x) for x in sys.argv])\n",
    "    "
   ]
  },
  {
   "cell_type": "code",
   "execution_count": null,
   "metadata": {
    "slideshow": {
     "slide_type": "slide"
    }
   },
   "outputs": [],
   "source": [
    "# test2.py 231 23123 1\n",
    "\n",
    "# [<class 'str'>, <class 'str'>, <class 'str'>, <class 'str'>]"
   ]
  },
  {
   "cell_type": "code",
   "execution_count": null,
   "metadata": {
    "slideshow": {
     "slide_type": "slide"
    }
   },
   "outputs": [],
   "source": [
    "import os\n",
    "help(os)"
   ]
  },
  {
   "cell_type": "code",
   "execution_count": null,
   "metadata": {
    "slideshow": {
     "slide_type": "slide"
    }
   },
   "outputs": [],
   "source": [
    "os.listdir()"
   ]
  },
  {
   "cell_type": "code",
   "execution_count": null,
   "metadata": {
    "slideshow": {
     "slide_type": "slide"
    }
   },
   "outputs": [],
   "source": [
    "3 in [1,2,3]"
   ]
  },
  {
   "cell_type": "code",
   "execution_count": null,
   "metadata": {
    "slideshow": {
     "slide_type": "slide"
    }
   },
   "outputs": [],
   "source": [
    "# ls.py\n",
    "\n",
    "import sys\n",
    "import os\n",
    "\n",
    "def search_filesystem(filename):\n",
    "    if filename in os.listdir():\n",
    "        print(\"found!\")\n",
    "    else:\n",
    "        print(\"not found.\")\n",
    "\n",
    "\n",
    "if __name__ == \"__main__\":\n",
    "    search_filesystem(sys.argv[-1])"
   ]
  },
  {
   "cell_type": "markdown",
   "metadata": {
    "slideshow": {
     "slide_type": "slide"
    }
   },
   "source": [
    "# find_ext.py\n",
    "\n",
    "python find_ext.py file_extension\n",
    "\n",
    "This script will check the current directory for any files that end with extension \"file_extension\"\n",
    "\n",
    "If one is there, print the first one.\n",
    "\n",
    "Otherwise, it will print, \"none found.\""
   ]
  },
  {
   "cell_type": "code",
   "execution_count": null,
   "metadata": {
    "slideshow": {
     "slide_type": "slide"
    }
   },
   "outputs": [],
   "source": [
    "# find_ext.py\n",
    "\n",
    "import sys\n",
    "import os\n",
    "\n",
    "def search_filesystem(file_ext):\n",
    "    for filename in os.listdir():\n",
    "        if file_ext == os.path.splitext(filename)[-1]:\n",
    "            print(\"found:\", filename)\n",
    "            break\n",
    "    else:\n",
    "        print(\"none found.\")\n",
    "\n",
    "\n",
    "if __name__ == \"__main__\":\n",
    "    search_filesystem(sys.argv[-1])"
   ]
  },
  {
   "cell_type": "code",
   "execution_count": null,
   "metadata": {
    "slideshow": {
     "slide_type": "slide"
    }
   },
   "outputs": [],
   "source": [
    "# python find_ext.py .ipynb\n",
    "\n",
    "# found: iosystemplotting.ipynb"
   ]
  },
  {
   "cell_type": "markdown",
   "metadata": {
    "slideshow": {
     "slide_type": "slide"
    }
   },
   "source": [
    "# Part 2\n",
    "\n",
    "1. direct user input."
   ]
  },
  {
   "cell_type": "code",
   "execution_count": null,
   "metadata": {
    "slideshow": {
     "slide_type": "slide"
    }
   },
   "outputs": [],
   "source": [
    "# user_input.py\n",
    "\n",
    "txt = input(\"Type something to test this out: \")\n",
    "print(\"Did you say:\",txt,\"?\")\n"
   ]
  },
  {
   "cell_type": "markdown",
   "metadata": {
    "slideshow": {
     "slide_type": "slide"
    }
   },
   "source": [
    "# Part 3\n",
    "\n",
    "1. pickled objects.\n",
    "2. reading and writing to standard files. "
   ]
  },
  {
   "cell_type": "markdown",
   "metadata": {
    "slideshow": {
     "slide_type": "slide"
    }
   },
   "source": [
    "# To Pickle (verb)\n",
    "\n",
    "definition: to preserve or steep in brine or other liquid.\n",
    "\n",
    "We will not use brine.\n",
    "\n",
    "Python has a way to save objects so that they can be read back as *Python objects*."
   ]
  },
  {
   "cell_type": "code",
   "execution_count": 14,
   "metadata": {
    "slideshow": {
     "slide_type": "slide"
    }
   },
   "outputs": [
    {
     "data": {
      "text/plain": [
       "{'greeting': 'Hello, UserName',\n",
       " 'last_login': datetime.datetime(2018, 2, 1, 0, 0),\n",
       " 'number_posts': 231}"
      ]
     },
     "execution_count": 14,
     "metadata": {},
     "output_type": "execute_result"
    }
   ],
   "source": [
    "import pickle\n",
    "from datetime import datetime\n",
    "\n",
    "data_dict = dict(greeting=\"Hello, UserName\", \n",
    "                 last_login=datetime.fromisoformat(\"2018-02-01\"), \n",
    "                 number_posts=231)\n",
    "\n",
    "data_dict"
   ]
  },
  {
   "cell_type": "code",
   "execution_count": 20,
   "metadata": {
    "slideshow": {
     "slide_type": "slide"
    }
   },
   "outputs": [],
   "source": [
    "with open(\"data_dict.pickle\",'wb') as f:\n",
    "    pickle.dump(data_dict, f)"
   ]
  },
  {
   "cell_type": "code",
   "execution_count": 21,
   "metadata": {
    "slideshow": {
     "slide_type": "slide"
    }
   },
   "outputs": [
    {
     "data": {
      "text/plain": [
       "{'greeting': 'Hello, UserName',\n",
       " 'last_login': datetime.datetime(2018, 2, 1, 0, 0),\n",
       " 'number_posts': 231}"
      ]
     },
     "execution_count": 21,
     "metadata": {},
     "output_type": "execute_result"
    }
   ],
   "source": [
    "with open(\"data_dict.pickle\",'rb') as f:\n",
    "    object_from_filesystem = pickle.load(f)\n",
    "object_from_filesystem"
   ]
  },
  {
   "cell_type": "markdown",
   "metadata": {
    "slideshow": {
     "slide_type": "slide"
    }
   },
   "source": [
    "# Reading and writing to the filesystem\n",
    "\n",
    "We saw two examples.\n",
    "\n",
    "The key will be the *with* clause and *open* funtion.\n",
    "\n",
    "With clauses manage the context of open and closing."
   ]
  },
  {
   "cell_type": "code",
   "execution_count": 33,
   "metadata": {
    "slideshow": {
     "slide_type": "slide"
    }
   },
   "outputs": [
    {
     "name": "stdout",
     "output_type": "stream",
     "text": [
      "1,1,1,1\n",
      "\n",
      "2,1,1,1\n",
      "\n"
     ]
    }
   ],
   "source": [
    "with open(\"new.csv\", \"w\") as f:\n",
    "    f.write(\"1,1,1,1\\n\")\n",
    "    f.write(\"2,1,1,1\\n\")\n",
    "    \n",
    "with open(\"new.csv\", \"r\") as f:\n",
    "    for line in f:\n",
    "        print(line)"
   ]
  },
  {
   "cell_type": "markdown",
   "metadata": {
    "slideshow": {
     "slide_type": "slide"
    }
   },
   "source": [
    "# Part 4\n",
    "\n",
    "1. Make a plot.\n",
    "2. Save a plot as a file."
   ]
  },
  {
   "cell_type": "code",
   "execution_count": 35,
   "metadata": {
    "slideshow": {
     "slide_type": "slide"
    }
   },
   "outputs": [],
   "source": [
    "import matplotlib.pyplot as plt"
   ]
  },
  {
   "cell_type": "code",
   "execution_count": 37,
   "metadata": {},
   "outputs": [
    {
     "data": {
      "text/plain": [
       "[<matplotlib.lines.Line2D at 0x7f2f921ae278>]"
      ]
     },
     "execution_count": 37,
     "metadata": {},
     "output_type": "execute_result"
    },
    {
     "data": {
      "image/png": "[encoded data removed]",
      "text/plain": [
       "<Figure size 432x288 with 1 Axes>"
      ]
     },
     "metadata": {
      "needs_background": "light"
     },
     "output_type": "display_data"
    }
   ],
   "source": [
    "plt.plot([0.1,0.2,0.3],[4,5,6])"
   ]
  },
  {
   "cell_type": "code",
   "execution_count": 38,
   "metadata": {
    "slideshow": {
     "slide_type": "slide"
    }
   },
   "outputs": [
    {
     "data": {
      "text/plain": [
       "<Figure size 432x288 with 0 Axes>"
      ]
     },
     "metadata": {},
     "output_type": "display_data"
    }
   ],
   "source": [
    "plt.clf() # clears plot"
   ]
  },
  {
   "cell_type": "code",
   "execution_count": 39,
   "metadata": {
    "slideshow": {
     "slide_type": "slide"
    }
   },
   "outputs": [
    {
     "data": {
      "image/png": "[encoded data removed]",
      "text/plain": [
       "<Figure size 432x288 with 1 Axes>"
      ]
     },
     "metadata": {
      "needs_background": "light"
     },
     "output_type": "display_data"
    }
   ],
   "source": [
    "plt.plot([0.1,0.2,0.3],[4,5,6])\n",
    "plt.savefig(\"line_graph.png\")"
   ]
  },
  {
   "cell_type": "code",
   "execution_count": null,
   "metadata": {},
   "outputs": [],
   "source": []
  }
 ],
 "metadata": {
  "celltoolbar": "Slideshow",
  "kernelspec": {
   "display_name": "Python 3",
   "language": "python",
   "name": "python3"
  },
  "language_info": {
   "codemirror_mode": {
    "name": "ipython",
    "version": 3
   },
   "file_extension": ".py",
   "mimetype": "text/x-python",
   "name": "python",
   "nbconvert_exporter": "python",
   "pygments_lexer": "ipython3",
   "version": "3.7.3"
  }
 },
 "nbformat": 4,
 "nbformat_minor": 2
}
