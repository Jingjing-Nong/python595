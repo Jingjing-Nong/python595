{
 "cells": [
  {
   "cell_type": "markdown",
   "metadata": {
    "slideshow": {
     "slide_type": "slide"
    }
   },
   "source": [
    "# Python Lecture 6a: Recap from OH\n",
    "## Jarret Petrillo copyright 2020\n",
    "## AMS 595"
   ]
  },
  {
   "cell_type": "code",
   "execution_count": 2,
   "metadata": {
    "slideshow": {
     "slide_type": "slide"
    }
   },
   "outputs": [],
   "source": [
    "# What is the output of the following function calls?\n",
    "\n",
    "def addifbig(a,b):\n",
    "    if a>10 and b>15:\n",
    "        return a+b\n",
    "    \n",
    "addifbig(20,30)\n",
    "addifbig(10,30)\n",
    "addifbig(1,1)"
   ]
  },
  {
   "cell_type": "code",
   "execution_count": 3,
   "metadata": {
    "slideshow": {
     "slide_type": "slide"
    }
   },
   "outputs": [],
   "source": [
    "# custom exception class\n",
    "\n",
    "class OutOfOfficeError(Exception):\n",
    "    pass"
   ]
  },
  {
   "cell_type": "code",
   "execution_count": 4,
   "metadata": {
    "slideshow": {
     "slide_type": "slide"
    }
   },
   "outputs": [],
   "source": [
    "def askquestion(to, msg):\n",
    "    if to==\"Colleague on Holiday\":\n",
    "        raise OutOfOfficeError\n",
    "    # else send message"
   ]
  },
  {
   "cell_type": "code",
   "execution_count": 5,
   "metadata": {
    "slideshow": {
     "slide_type": "slide"
    }
   },
   "outputs": [],
   "source": [
    "# custom errors allow applications to have custom behavior\n",
    "# It also makes code very readable!\n",
    "\n",
    "try:\n",
    "    askquestion(\"Colleague on Holiday\", \n",
    "                \"Hi! Do you have the hw for 595?\")\n",
    "except OutOfOfficeError:\n",
    "    askquestion(\"Colleague NOT on Holiday\", \n",
    "                \"Hi! Do you have the hw for 595?\")"
   ]
  },
  {
   "cell_type": "code",
   "execution_count": 6,
   "metadata": {
    "slideshow": {
     "slide_type": "slide"
    }
   },
   "outputs": [],
   "source": [
    "#Python filesystem demonstration"
   ]
  },
  {
   "cell_type": "markdown",
   "metadata": {
    "slideshow": {
     "slide_type": "slide"
    }
   },
   "source": [
    "# HW\n",
    "\n",
    "Before starting lecture 6b modules, please read PEP 3141: A Type Hierarchy for Numbers\n",
    "\n",
    "https://www.python.org/dev/peps/pep-3141/\n"
   ]
  }
 ],
 "metadata": {
  "celltoolbar": "Slideshow",
  "kernelspec": {
   "display_name": "Python 3",
   "language": "python",
   "name": "python3"
  },
  "language_info": {
   "codemirror_mode": {
    "name": "ipython",
    "version": 3
   },
   "file_extension": ".py",
   "mimetype": "text/x-python",
   "name": "python",
   "nbconvert_exporter": "python",
   "pygments_lexer": "ipython3",
   "version": "3.7.3"
  }
 },
 "nbformat": 4,
 "nbformat_minor": 2
}
