{
 "cells": [
  {
   "cell_type": "markdown",
   "metadata": {
    "slideshow": {
     "slide_type": "slide"
    }
   },
   "source": [
    "# Python Lecture 6b: Object-Oriented Programming\n",
    "## Jarret Petrillo copyright 2020\n",
    "## AMS 595"
   ]
  },
  {
   "cell_type": "markdown",
   "metadata": {
    "slideshow": {
     "slide_type": "slide"
    }
   },
   "source": [
    "# HWx2\n",
    "\n",
    "Read PEP 3141:A Type Hierarchy for Numbers\n",
    "https://www.python.org/dev/peps/pep-3141/\n",
    "\n",
    "and \n",
    "https://pypi.org/\n",
    "\n",
    "There are Python libraries in all states of development.\n",
    "\n",
    "As a homework, please find 3 packages *with changes in the last week*:\n",
    "1. Find one that is solid and seems to have a broad development team.\n",
    "2. Find one that is pre-alpha or in the planning stages.\n",
    "3. Find one relevant to scientific computing."
   ]
  },
  {
   "cell_type": "markdown",
   "metadata": {
    "slideshow": {
     "slide_type": "slide"
    }
   },
   "source": [
    "# Today's Goal\n",
    "\n",
    "## How can objects simplify thinking\n",
    "\n",
    "1. hierarchy\n",
    "1. types\n",
    "2. modularity"
   ]
  },
  {
   "cell_type": "markdown",
   "metadata": {
    "slideshow": {
     "slide_type": "slide"
    }
   },
   "source": [
    "# FAQ\n",
    "\n",
    "Are objects and `classes' the same thing?"
   ]
  },
  {
   "cell_type": "code",
   "execution_count": 9,
   "metadata": {
    "slideshow": {
     "slide_type": "slide"
    }
   },
   "outputs": [],
   "source": [
    "# I use them interchangably.\n",
    "# Every language has object-oriented patterns.\n",
    "# Python's objects are called classes.\n",
    "\n",
    "class Object():\n",
    "    pass\n",
    "\n",
    "new_object = Object()"
   ]
  },
  {
   "cell_type": "markdown",
   "metadata": {
    "slideshow": {
     "slide_type": "slide"
    }
   },
   "source": [
    "# FAQ\n",
    "\n",
    "Why does Python have abstract classes?"
   ]
  },
  {
   "cell_type": "markdown",
   "metadata": {
    "slideshow": {
     "slide_type": "slide"
    }
   },
   "source": [
    "\"[In Python] almost any aspect of an object can be reflected and directly accessed by external code, there are many different ways to test whether an object conforms to a particular protocol or not.\" - Tulin, PEP 3119\n",
    "\n",
    "Abstract classes is one *explicit pattern* for organizing a class hierarchy.\n",
    "\n",
    "It reflects the opinions of its designers more than any objective idea on design philosophy."
   ]
  },
  {
   "cell_type": "code",
   "execution_count": 26,
   "metadata": {
    "slideshow": {
     "slide_type": "slide"
    }
   },
   "outputs": [],
   "source": [
    "# Example\n",
    "\n",
    "# Determine if an object is a mutable sequence, like a list.\n",
    "\n",
    "def is_mutable_sequence(obj):\n",
    "    if type(obj)==list:\n",
    "        return True\n",
    "    else:\n",
    "        return False"
   ]
  },
  {
   "cell_type": "code",
   "execution_count": 27,
   "metadata": {
    "slideshow": {
     "slide_type": "slide"
    }
   },
   "outputs": [
    {
     "data": {
      "text/plain": [
       "False"
      ]
     },
     "execution_count": 27,
     "metadata": {},
     "output_type": "execute_result"
    }
   ],
   "source": [
    "import collections\n",
    "is_mutable_sequence(collections.UserList) # false negative"
   ]
  },
  {
   "cell_type": "code",
   "execution_count": 46,
   "metadata": {
    "slideshow": {
     "slide_type": "slide"
    }
   },
   "outputs": [
    {
     "data": {
      "text/plain": [
       "True"
      ]
     },
     "execution_count": 46,
     "metadata": {},
     "output_type": "execute_result"
    }
   ],
   "source": [
    "# Answer: This is actually a hard problem to solve ad hoc.\n",
    "# Formal ideas behind Object hierarchy allow someone to\n",
    "# specify the answers to questions of hierarchy.\n",
    "\n",
    "from collections.abc import MutableSequence\n",
    "\n",
    "issubclass(collections.UserList, MutableSequence)"
   ]
  },
  {
   "cell_type": "markdown",
   "metadata": {
    "slideshow": {
     "slide_type": "slide"
    }
   },
   "source": [
    "# Part 1: A Type Hierarchy for Numbers\n",
    "\n",
    "Goals:\n",
    "1. Codify the set inclusions of standard number sets.\n",
    "2. I.e. real numbers contain the rational numbers.\n",
    "3. I.e. Complex numbers contin the reals."
   ]
  },
  {
   "cell_type": "markdown",
   "metadata": {
    "slideshow": {
     "slide_type": "slide"
    }
   },
   "source": [
    "# \"X is a Y\" test\n",
    "\n",
    "An integer IS A rational number.\n",
    "\n",
    "A real number IS A complex number.\n",
    "\n",
    "This is the *perfect example* of type hierarchy."
   ]
  },
  {
   "cell_type": "code",
   "execution_count": 39,
   "metadata": {
    "slideshow": {
     "slide_type": "slide"
    }
   },
   "outputs": [],
   "source": [
    "# Numbers\n",
    "from abc import ABCMeta #abc means abstract base class\n",
    "\n",
    "class Number(metaclass=ABCMeta): # the bottom of the hierarcy\n",
    "    pass\n",
    "\n",
    "class Complex(Number): # slighlty specific\n",
    "    pass\n",
    "\n",
    "class Real(Complex): # slighlty specific\n",
    "    pass\n",
    "\n",
    "class Rational(Real): # slighlty specific\n",
    "    pass\n",
    "\n",
    "class Integer(Rational): # more specific\n",
    "    pass\n",
    "\n",
    "class PositiveInteger(Integer): # and so on...\n",
    "    pass"
   ]
  },
  {
   "cell_type": "markdown",
   "metadata": {
    "slideshow": {
     "slide_type": "slide"
    }
   },
   "source": [
    "# @abstractmethod and @abstractproperty wrappers\n",
    "\n"
   ]
  },
  {
   "cell_type": "code",
   "execution_count": 59,
   "metadata": {
    "slideshow": {
     "slide_type": "slide"
    }
   },
   "outputs": [
    {
     "name": "stdout",
     "output_type": "stream",
     "text": [
      "0.0\n",
      "-0j\n"
     ]
    }
   ],
   "source": [
    "from abc import abstractmethod, abstractproperty\n",
    "\n",
    "class Complex(Number):\n",
    "    \"\"\"Complex number. \"\"\"\n",
    "\n",
    "    @abstractproperty\n",
    "    def real(self):\n",
    "        \"\"\"Retrieve the real component of this number.\n",
    "\n",
    "        This should subclass Real.\n",
    "        \"\"\"\n",
    "        raise NotImplementedError\n",
    "\n",
    "    @abstractproperty\n",
    "    def imag(self):\n",
    "        \"\"\"Retrieve the real component of this number.\n",
    "\n",
    "        This should subclass Real.\n",
    "        \"\"\"\n",
    "        raise NotImplementedError\n",
    "\n",
    "    @abstractmethod\n",
    "    def conjugate(self):\n",
    "        \"\"\"(x+y*i).conjugate() returns (x-y*i).\"\"\"\n",
    "        raise NotImplementedError\n",
    "\n",
    "# This is a pattern.\n",
    "# abstractmethods needs to be implemented.\n",
    "# The declaration tells the user what it is that defines\n",
    "# the Complex object as a complex object.\n",
    "\n",
    "# d = Complex() is a typeerror\n",
    "# because my definition overrides Complex object :/\n",
    "\n",
    "c = complex() \n",
    "\n",
    "# property\n",
    "print(c.imag)\n",
    "\n",
    "# method\n",
    "print(c.conjugate())"
   ]
  },
  {
   "cell_type": "markdown",
   "metadata": {
    "slideshow": {
     "slide_type": "slide"
    }
   },
   "source": [
    "# Further Reading\n",
    "\n",
    "PEP 3119: Introducing Abstract Base Classes\n",
    "\n",
    "https://www.python.org/dev/peps/pep-3119/"
   ]
  },
  {
   "cell_type": "markdown",
   "metadata": {
    "slideshow": {
     "slide_type": "slide"
    }
   },
   "source": [
    "# Part 2: Modules\n",
    "\n",
    "Modules are packaged collections of objects and functions.\n",
    "\n",
    "A number *module* might contains the hierarchy in Part 1.\n",
    "\n",
    "*Modules* utilize a consistent design pattern."
   ]
  },
  {
   "cell_type": "markdown",
   "metadata": {
    "slideshow": {
     "slide_type": "slide"
    }
   },
   "source": [
    "# statsmodels \n",
    "\n",
    "statsmodels is my favorite Python package.\n",
    "\n",
    "There is a subpackage called tsa for timeseries analysis.\n",
    "\n",
    "We will look very briefly at the hiearchies they use to fit \n",
    "\n",
    "an Autoregressive Moving-average Model."
   ]
  },
  {
   "cell_type": "code",
   "execution_count": 78,
   "metadata": {
    "slideshow": {
     "slide_type": "slide"
    }
   },
   "outputs": [],
   "source": [
    "from statsmodels import tsa\n",
    "\n",
    "from statsmodels.tsa import statespace\n",
    "\n",
    "# MLEModel is a SARIMAX is a ARIMA\n",
    "\n",
    "class ARIMA(statespace.sarimax.SARIMAX): #class for ARIMA model\n",
    "    pass\n",
    "\n",
    "class SARIMAX(statespace.mlemodel.MLEModel):\n",
    "    pass\n",
    "\n",
    "class MLEModel(tsa.base.tsa_model.TimeSeriesModel):\n",
    "    pass\n"
   ]
  },
  {
   "cell_type": "code",
   "execution_count": 79,
   "metadata": {
    "slideshow": {
     "slide_type": "slide"
    }
   },
   "outputs": [
    {
     "data": {
      "text/plain": [
       "['DatetimeIndex',\n",
       " 'Float64Index',\n",
       " 'Index',\n",
       " 'Int64Index',\n",
       " 'Period',\n",
       " 'PeriodIndex',\n",
       " 'RangeIndex',\n",
       " 'Series',\n",
       " 'TimeSeriesModel',\n",
       " 'TimeSeriesModelResults',\n",
       " 'TimeSeriesResultsWrapper',\n",
       " 'Timestamp',\n",
       " 'ValueWarning',\n",
       " '__builtins__',\n",
       " '__cached__',\n",
       " '__doc__',\n",
       " '__file__',\n",
       " '__loader__',\n",
       " '__name__',\n",
       " '__package__',\n",
       " '__spec__',\n",
       " '_generic_params',\n",
       " '_missing_param_doc',\n",
       " '_model_doc',\n",
       " '_tsa_doc',\n",
       " 'base',\n",
       " 'data',\n",
       " 'date_range',\n",
       " 'is_numeric_dtype',\n",
       " 'np',\n",
       " 'numbers',\n",
       " 'period_range',\n",
       " 'to_datetime',\n",
       " 'to_offset',\n",
       " 'warnings',\n",
       " 'wrap']"
      ]
     },
     "execution_count": 79,
     "metadata": {},
     "output_type": "execute_result"
    }
   ],
   "source": [
    "dir(tsa.base.tsa_model) #base.tsa_model has the following"
   ]
  },
  {
   "cell_type": "markdown",
   "metadata": {
    "slideshow": {
     "slide_type": "slide"
    }
   },
   "source": [
    "# HW\n",
    "\n",
    "Now you should complete the three Python module assessments.\n",
    "\n",
    "Note the files on github have changed since the class started."
   ]
  }
 ],
 "metadata": {
  "celltoolbar": "Slideshow",
  "kernelspec": {
   "display_name": "Python 3",
   "language": "python",
   "name": "python3"
  },
  "language_info": {
   "codemirror_mode": {
    "name": "ipython",
    "version": 3
   },
   "file_extension": ".py",
   "mimetype": "text/x-python",
   "name": "python",
   "nbconvert_exporter": "python",
   "pygments_lexer": "ipython3",
   "version": "3.7.3"
  }
 },
 "nbformat": 4,
 "nbformat_minor": 2
}
