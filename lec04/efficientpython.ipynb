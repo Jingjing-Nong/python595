{
 "cells": [
  {
   "cell_type": "markdown",
   "metadata": {
    "slideshow": {
     "slide_type": "slide"
    }
   },
   "source": [
    "# Python Lecture 4: Algorithms and Efficienct code\n",
    "## Jarret Petrillo copyright 2020\n",
    "## AMS 595"
   ]
  },
  {
   "cell_type": "markdown",
   "metadata": {
    "slideshow": {
     "slide_type": "slide"
    }
   },
   "source": [
    "\"Premature optimization is the root of all evil.\"\n",
    "\n",
    "\"Optimization can reduce readability and add code that is used only to improve the performance.\"\n",
    "\n",
    "\"In established engineering disciplines a 12% improvement, easily obtained, is never considered marginal and I believe the same viewpoint should prevail in software engineering\"\n",
    "\n",
    "https://en.wikipedia.org/wiki/Program_optimization#When_to_optimize"
   ]
  },
  {
   "cell_type": "markdown",
   "metadata": {
    "slideshow": {
     "slide_type": "slide"
    }
   },
   "source": [
    "# Simple suggestions\n",
    "\n",
    "1. Move calculations outside a loop.\n",
    "1. Use the right object.\n",
    "2. \"timeit\"\n",
    "3. cProfiler"
   ]
  },
  {
   "cell_type": "markdown",
   "metadata": {
    "slideshow": {
     "slide_type": "slide"
    }
   },
   "source": [
    "# 1. Move static calculations outside a for loop.\n"
   ]
  },
  {
   "cell_type": "code",
   "execution_count": null,
   "metadata": {
    "slideshow": {
     "slide_type": "slide"
    }
   },
   "outputs": [],
   "source": [
    "# Correct\n",
    "\n",
    "fixed_adjustment = calculate_fixed_adjustment()\n",
    "for x in range(1000):\n",
    "    x + fixed_adjustment\n",
    "    \n",
    "# Incorrect\n",
    "for x in range(1000):\n",
    "    x + calculate_fixed_adjustment()\n"
   ]
  },
  {
   "cell_type": "markdown",
   "metadata": {
    "slideshow": {
     "slide_type": "slide"
    }
   },
   "source": [
    "# 2. Use new classes when they are relevant."
   ]
  },
  {
   "cell_type": "code",
   "execution_count": 55,
   "metadata": {
    "slideshow": {
     "slide_type": "slide"
    }
   },
   "outputs": [
    {
     "name": "stdout",
     "output_type": "stream",
     "text": [
      "1 3\n"
     ]
    }
   ],
   "source": [
    "# text parsing option\n",
    "\n",
    "words = [\"the\", \"new\", \"new\", \"new\"]\n",
    "count_the = 0\n",
    "count_new = 0\n",
    "for word in words:\n",
    "    if word == \"the\":\n",
    "        count_the += 1\n",
    "    if word == \"new\":\n",
    "        count_new += 1\n",
    "        \n",
    "print(count_the, count_new)"
   ]
  },
  {
   "cell_type": "code",
   "execution_count": 58,
   "metadata": {
    "slideshow": {
     "slide_type": "slide"
    }
   },
   "outputs": [
    {
     "data": {
      "text/plain": [
       "Counter({'the': 1, 'new': 3})"
      ]
     },
     "execution_count": 58,
     "metadata": {},
     "output_type": "execute_result"
    }
   ],
   "source": [
    "from collections import Counter\n",
    "\n",
    "words = [\"the\", \"new\", \"new\", \"new\"]\n",
    "Counter(words)\n"
   ]
  },
  {
   "cell_type": "markdown",
   "metadata": {
    "slideshow": {
     "slide_type": "slide"
    }
   },
   "source": [
    "# 3. Timeit\n",
    "\n",
    "## Test simple statements with timeit."
   ]
  },
  {
   "cell_type": "code",
   "execution_count": 31,
   "metadata": {
    "slideshow": {
     "slide_type": "slide"
    }
   },
   "outputs": [
    {
     "name": "stdout",
     "output_type": "stream",
     "text": [
      "Hello, Johnny22222!\n",
      "Hello, Johnny22222!\n"
     ]
    }
   ],
   "source": [
    "UserName = \"Johnny22222\"\n",
    "greeting = \"Hello, \" + UserName + \"!\"\n",
    "print(greeting)\n",
    "\n",
    "greeting = \"Hello, {}!\".format(UserName)\n",
    "print(greeting)\n"
   ]
  },
  {
   "cell_type": "code",
   "execution_count": 34,
   "metadata": {
    "slideshow": {
     "slide_type": "slide"
    }
   },
   "outputs": [
    {
     "data": {
      "text/plain": [
       "0.002654969999639434"
      ]
     },
     "execution_count": 34,
     "metadata": {},
     "output_type": "execute_result"
    }
   ],
   "source": [
    "from timeit import timeit\n",
    "\n",
    "timeit('\"Hello, {}!\".format(\"Johnny22222\")', number=10000)"
   ]
  },
  {
   "cell_type": "code",
   "execution_count": 35,
   "metadata": {
    "slideshow": {
     "slide_type": "slide"
    }
   },
   "outputs": [
    {
     "data": {
      "text/plain": [
       "8.124000123643782e-05"
      ]
     },
     "execution_count": 35,
     "metadata": {},
     "output_type": "execute_result"
    }
   ],
   "source": [
    "timeit('\"Hello, \"+\"Johnny22222\"+\"!\"', number=10000)"
   ]
  },
  {
   "cell_type": "markdown",
   "metadata": {
    "slideshow": {
     "slide_type": "slide"
    }
   },
   "source": [
    "# 4. cProfile"
   ]
  },
  {
   "cell_type": "markdown",
   "metadata": {
    "slideshow": {
     "slide_type": "slide"
    }
   },
   "source": [
    "python -m cProfile hello_world.py \n",
    "\n",
    "hello world!\n",
    "         4 function calls in 0.000 seconds\n",
    "\n",
    "   Ordered by: standard name\n",
    "\n",
    "   ncalls  tottime  percall  cumtime  percall filename:lineno(function)\n",
    "        1    0.000    0.000    0.000    0.000 hello_world.py:1(<module>)\n",
    "        1    0.000    0.000    0.000    0.000 {built-in method builtins.exec}\n",
    "        1    0.000    0.000    0.000    0.000 {built-in method builtins.print}\n",
    "        1    0.000    0.000    0.000    0.000 {method 'disable' of '_lsprof.Profiler' objects}\n"
   ]
  },
  {
   "cell_type": "markdown",
   "metadata": {},
   "source": [
    "# HW\n",
    "\n",
    "Please read PEP 218: Adding a Built-In Set Object Type.\n",
    "\n",
    "https://www.python.org/dev/peps/pep-0218/\n",
    "\n",
    "We know Python has the set object.\n",
    "\n",
    "The reading is the original proposal.\n",
    "\n",
    "Set is an object.  Next session will begin a discussion of objects in Python."
   ]
  }
 ],
 "metadata": {
  "celltoolbar": "Slideshow",
  "kernelspec": {
   "display_name": "Python 3",
   "language": "python",
   "name": "python3"
  },
  "language_info": {
   "codemirror_mode": {
    "name": "ipython",
    "version": 3
   },
   "file_extension": ".py",
   "mimetype": "text/x-python",
   "name": "python",
   "nbconvert_exporter": "python",
   "pygments_lexer": "ipython3",
   "version": "3.7.3"
  }
 },
 "nbformat": 4,
 "nbformat_minor": 2
}
