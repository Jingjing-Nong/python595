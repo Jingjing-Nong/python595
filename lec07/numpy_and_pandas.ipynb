{
 "cells": [
  {
   "cell_type": "markdown",
   "metadata": {
    "slideshow": {
     "slide_type": "slide"
    }
   },
   "source": [
    "# Python Lecture 7: SciPy, NumPy, and Pandas\n",
    "## Jarret Petrillo copyright 2020\n",
    "## AMS 595"
   ]
  },
  {
   "cell_type": "markdown",
   "metadata": {
    "slideshow": {
     "slide_type": "slide"
    }
   },
   "source": [
    "# Goals for Today\n",
    "\n",
    " Introduction to the three key Python packages for scientific computing\n",
    " \n",
    "1. NumPy has the array object and efficient low-level matrix operation\n",
    "3. SciPy adds specialized functions for signal processing+linear algebra\n",
    "1. Pandas builds data methods and functions\n"
   ]
  },
  {
   "cell_type": "markdown",
   "metadata": {
    "slideshow": {
     "slide_type": "slide"
    }
   },
   "source": [
    "# FAQ\n",
    "\n",
    "Where can I learn more?"
   ]
  },
  {
   "cell_type": "markdown",
   "metadata": {
    "slideshow": {
     "slide_type": "slide"
    }
   },
   "source": [
    "# Use Good References, instead of Google\n",
    "\n",
    "Three book references from PACKT publishing are:\n",
    "1. \"NumPy Cookbook\" by Idris\n",
    "1. \"Learning SciPy for Numerical Computing\" by Blanco-Silva\n",
    "3. \"Mastering Pandas\" by Anthony"
   ]
  },
  {
   "cell_type": "markdown",
   "metadata": {
    "slideshow": {
     "slide_type": "slide"
    }
   },
   "source": [
    "# Part 1: NumPy\n",
    "\n",
    "1. array indexing\n",
    "2. common functions\n",
    "3. ways to practice"
   ]
  },
  {
   "cell_type": "code",
   "execution_count": 11,
   "metadata": {
    "slideshow": {
     "slide_type": "slide"
    }
   },
   "outputs": [
    {
     "data": {
      "text/plain": [
       "array([[2, 8, 7, 1, 6],\n",
       "       [9, 5, 4, 7, 3],\n",
       "       [6, 1, 3, 8, 4],\n",
       "       [8, 7, 9, 6, 5],\n",
       "       [4, 2, 1, 3, 9],\n",
       "       [3, 6, 5, 4, 2],\n",
       "       [1, 9, 8, 5, 7],\n",
       "       [5, 4, 2, 9, 1],\n",
       "       [7, 3, 6, 2, 8]])"
      ]
     },
     "execution_count": 11,
     "metadata": {},
     "output_type": "execute_result"
    }
   ],
   "source": [
    "import numpy as np\n",
    "\n",
    "data = np.array([\n",
    "                [2, 8, 7, 1, 6,],\n",
    "                [9, 5, 4, 7, 3,],\n",
    "                [6, 1, 3, 8, 4,],\n",
    "                [8, 7, 9, 6, 5,],\n",
    "                [4, 2, 1, 3, 9,],\n",
    "                [3, 6, 5, 4, 2,],\n",
    "                [1, 9, 8, 5, 7,],\n",
    "                [5, 4, 2, 9, 1,],\n",
    "                [7, 3, 6, 2, 8,]])\n",
    "\n",
    "data"
   ]
  },
  {
   "cell_type": "code",
   "execution_count": 22,
   "metadata": {
    "slideshow": {
     "slide_type": "slide"
    }
   },
   "outputs": [
    {
     "name": "stdout",
     "output_type": "stream",
     "text": [
      "8\n",
      "[8 5 1 7 2 6 9 4 3]\n",
      "[2 8 7 1 6]\n"
     ]
    }
   ],
   "source": [
    "# Indexing is the most important idea in arrays\n",
    "\n",
    "# indices start at 0 in Python\n",
    "\n",
    "print(data[0,1]) # first is row, second is column\n",
    "\n",
    "print(data[:,1]) # get the second column\n",
    "\n",
    "print(data[0,:]) # first row\n"
   ]
  },
  {
   "cell_type": "code",
   "execution_count": 25,
   "metadata": {
    "slideshow": {
     "slide_type": "slide"
    }
   },
   "outputs": [
    {
     "name": "stdout",
     "output_type": "stream",
     "text": [
      "[[2 8 7 1 6]\n",
      " [9 5 4 7 3]\n",
      " [6 1 3 8 4]\n",
      " [8 7 9 6 5]\n",
      " [4 2 1 3 9]\n",
      " [3 6 5 4 2]\n",
      " [1 9 8 5 7]\n",
      " [5 4 2 9 1]\n",
      " [7 3 6 2 8]]\n",
      "[2 5 3 6 9]\n"
     ]
    }
   ],
   "source": [
    "# fancy indexing\n",
    "\n",
    "print(data)\n",
    "\n",
    "print(data[range(5),range(5)]) # select diagonal elements"
   ]
  },
  {
   "cell_type": "code",
   "execution_count": 34,
   "metadata": {
    "slideshow": {
     "slide_type": "slide"
    }
   },
   "outputs": [
    {
     "name": "stdout",
     "output_type": "stream",
     "text": [
      "(9, 5)\n"
     ]
    }
   ],
   "source": [
    "# find shape\n",
    "\n",
    "print(data.shape)\n",
    "\n",
    "data2 = data.copy()"
   ]
  },
  {
   "cell_type": "code",
   "execution_count": 37,
   "metadata": {
    "scrolled": true,
    "slideshow": {
     "slide_type": "slide"
    }
   },
   "outputs": [
    {
     "name": "stdout",
     "output_type": "stream",
     "text": [
      "[[0 0 0 0 0]\n",
      " [0 0 0 0 0]\n",
      " [0 0 0 0 0]\n",
      " [0 0 0 0 0]\n",
      " [0 0 0 0 0]\n",
      " [0 0 0 0 0]\n",
      " [0 0 0 0 0]\n",
      " [0 0 0 0 0]\n",
      " [0 0 0 0 0]]\n",
      "<numpy.flatiter object at 0x2eae350>\n"
     ]
    }
   ],
   "source": [
    "data2.flat = 0\n",
    "\n",
    "print(data2)\n",
    "\n",
    "print(data2.flat) # flat is a mutable sequence of array elements."
   ]
  },
  {
   "cell_type": "code",
   "execution_count": 43,
   "metadata": {
    "slideshow": {
     "slide_type": "slide"
    }
   },
   "outputs": [
    {
     "name": "stdout",
     "output_type": "stream",
     "text": [
      "[8 7 6 9 5 4 7 6 8 4 8 7 9 6 5 4 9 6 5 4 9 8 5 7 5 4 9 7 6 8]\n"
     ]
    }
   ],
   "source": [
    "data3 = data[data>3] # select all indices that have value\n",
    "                     # greater than 3\n",
    "\n",
    "print(data3) # very handy!"
   ]
  },
  {
   "cell_type": "markdown",
   "metadata": {
    "slideshow": {
     "slide_type": "slide"
    }
   },
   "source": [
    "# Useful NumPy functions\n",
    "\n",
    "np.sqrt(), np.log(), np.arange(), np.astype(), and np.sum()\n",
    "\n",
    "np.ceil(), np.modf(), np.where(), np.ravel(), and np.take()\n",
    "\n",
    "np.sort() and np.outer()\n",
    "\n",
    "np.diff(), np.sign(), and np.eig()\n",
    "\n",
    "np.histogram() and np.polyfit()\n",
    "\n",
    "np.compress() and np.randint()"
   ]
  },
  {
   "cell_type": "code",
   "execution_count": 69,
   "metadata": {
    "slideshow": {
     "slide_type": "slide"
    }
   },
   "outputs": [
    {
     "name": "stdout",
     "output_type": "stream",
     "text": [
      "6\n",
      "[1. 2. 3.]\n",
      "['2018-01-01' '2020-01-01' '2019-03-04']\n",
      "[0 1 2 3 4 5 6 7 8 9]\n"
     ]
    },
    {
     "data": {
      "text/plain": [
       "(0.41421356237309515, 1.0)"
      ]
     },
     "execution_count": 69,
     "metadata": {},
     "output_type": "execute_result"
    }
   ],
   "source": [
    "print(np.sum([1,2,3]))\n",
    "\n",
    "print(np.array([1,2,3]).astype(float))\n",
    "\n",
    "print(np.array(\n",
    "    [\"2018-01-01\",\"2020-01-01\",\"2019-03-04\"]\n",
    "    ).astype(np.datetime64))\n",
    "\n",
    "print(np.arange(0,10))\n",
    "\n",
    "np.modf(np.sqrt(2)) # separate fractional and integer parts of numbers"
   ]
  },
  {
   "cell_type": "code",
   "execution_count": 75,
   "metadata": {
    "slideshow": {
     "slide_type": "slide"
    }
   },
   "outputs": [
    {
     "name": "stdout",
     "output_type": "stream",
     "text": [
      "[[100  10  20]\n",
      " [ 10   1   2]\n",
      " [ 20   2   4]]\n"
     ]
    },
    {
     "data": {
      "text/plain": [
       "array([100,  10,  20,  10,   1,   2,  20,   2,   4])"
      ]
     },
     "execution_count": 75,
     "metadata": {},
     "output_type": "execute_result"
    }
   ],
   "source": [
    "a = np.array([10,1,2])\n",
    "print(np.outer(a,a)) # outer product\n",
    "\n",
    "np.ravel(np.outer(a,a)) # read values from \n",
    "                        # top left corner to \n",
    "                        # bottom right"
   ]
  },
  {
   "cell_type": "markdown",
   "metadata": {
    "slideshow": {
     "slide_type": "slide"
    }
   },
   "source": [
    "# So many great example problems!\n",
    "\n",
    "## What is the 10,001st prime number?\n",
    "\n",
    "Implement Sieve of Eratosthenes (https://en.wikipedia.org/wiki/Sieve_of_Eratosthenes)\n",
    "\n",
    "Images are also arrays. A matrix location has value corresponding to the color of the pixel.\n",
    "\n",
    "## How would you implement a *blur* function?\n",
    "\n",
    "## Could you write an *edge detection algorithm*?\n",
    "\n",
    "At this point - you have an extremely versatile object, the NumPy array, at your fingertips and can accomplish quite a bit.\n",
    "\n",
    "Before moving on, select three of the functions above that were not detailed and write a clear description of what it does and when it would be useful.  This is super helpful practice.\n"
   ]
  },
  {
   "cell_type": "markdown",
   "metadata": {
    "slideshow": {
     "slide_type": "slide"
    }
   },
   "source": [
    "# Part 2: SciPy\n",
    "\n",
    "1. Linear algebra\n",
    "2. Special functions\n",
    "3. Interpolation"
   ]
  },
  {
   "cell_type": "code",
   "execution_count": 83,
   "metadata": {
    "slideshow": {
     "slide_type": "slide"
    }
   },
   "outputs": [
    {
     "name": "stdout",
     "output_type": "stream",
     "text": [
      "0.7071067811865475\n",
      "[[ 0.70710678  0.          0.70710678]\n",
      " [ 0.          1.          0.        ]\n",
      " [ 0.70710678  0.         -0.70710678]]\n"
     ]
    },
    {
     "data": {
      "text/plain": [
       "(9, 9)"
      ]
     },
     "execution_count": 83,
     "metadata": {},
     "output_type": "execute_result"
    }
   ],
   "source": [
    "import scipy.linalg\n",
    "\n",
    "mu=1/np.sqrt(2)\n",
    "print(mu)\n",
    "\n",
    "A=np.matrix([[mu,0,mu],[0,1,0],[mu,0,-mu]])\n",
    "print(A)\n",
    "\n",
    "B=scipy.linalg.kron(A,A) # use SciPy for Kroenecker product\n",
    "\n",
    "B.shape"
   ]
  },
  {
   "cell_type": "code",
   "execution_count": 96,
   "metadata": {
    "slideshow": {
     "slide_type": "slide"
    }
   },
   "outputs": [
    {
     "name": "stdout",
     "output_type": "stream",
     "text": [
      "[[2.68811714e+43 2.20264658e+04 4.85165195e+08]\n",
      " [2.20264658e+04 2.71828183e+00 7.38905610e+00]\n",
      " [4.85165195e+08 7.38905610e+00 5.45981500e+01]]\n",
      "[[3.79954245e+45 3.79954245e+44 7.59908490e+44]\n",
      " [3.79954245e+44 3.79954245e+43 7.59908490e+43]\n",
      " [7.59908490e+44 7.59908490e+43 1.51981698e+44]]\n"
     ]
    }
   ],
   "source": [
    "square = np.outer(a,a)\n",
    "\n",
    "A = np.exp(square) # numpy has element-wise exponential\n",
    "\n",
    "print(A)\n",
    "\n",
    "# useful in ODE methods\n",
    "B = scipy.linalg.expm(square) #scipy has the matrix exponential\n",
    "\n",
    "print(B) "
   ]
  },
  {
   "cell_type": "code",
   "execution_count": 101,
   "metadata": {
    "slideshow": {
     "slide_type": "slide"
    }
   },
   "outputs": [
    {
     "name": "stdout",
     "output_type": "stream",
     "text": [
      "Help on function solve in module scipy.linalg.basic:\n",
      "\n",
      "solve(a, b, sym_pos=False, lower=False, overwrite_a=False, overwrite_b=False, debug=None, check_finite=True, assume_a='gen', transposed=False)\n",
      "    Solves the linear equation set ``a * x = b`` for the unknown ``x``\n",
      "    for square ``a`` matrix.\n",
      "    \n",
      "    If the data matrix is known to be a particular type then supplying the\n",
      "    corresponding string to ``assume_a`` key chooses the dedicated solver.\n",
      "    The available options are\n",
      "    \n",
      "    ===================  ========\n",
      "     generic matrix       'gen'\n",
      "     symmetric            'sym'\n",
      "     hermitian            'her'\n",
      "     positive definite    'pos'\n",
      "    ===================  ========\n",
      "    \n",
      "    If omitted, ``'gen'`` is the default structure.\n",
      "    \n",
      "    The datatype of the arrays define which solver is called regardless\n",
      "    of the values. In other words, even when the complex array entries have\n",
      "    precisely zero imaginary parts, the complex solver will be called based\n",
      "    on the data type of the array.\n",
      "    \n",
      "    Parameters\n",
      "    ----------\n",
      "    a : (N, N) array_like\n",
      "        Square input data\n",
      "    b : (N, NRHS) array_like\n",
      "        Input data for the right hand side.\n",
      "    sym_pos : bool, optional\n",
      "        Assume `a` is symmetric and positive definite. This key is deprecated\n",
      "        and assume_a = 'pos' keyword is recommended instead. The functionality\n",
      "        is the same. It will be removed in the future.\n",
      "    lower : bool, optional\n",
      "        If True, only the data contained in the lower triangle of `a`. Default\n",
      "        is to use upper triangle. (ignored for ``'gen'``)\n",
      "    overwrite_a : bool, optional\n",
      "        Allow overwriting data in `a` (may enhance performance).\n",
      "        Default is False.\n",
      "    overwrite_b : bool, optional\n",
      "        Allow overwriting data in `b` (may enhance performance).\n",
      "        Default is False.\n",
      "    check_finite : bool, optional\n",
      "        Whether to check that the input matrices contain only finite numbers.\n",
      "        Disabling may give a performance gain, but may result in problems\n",
      "        (crashes, non-termination) if the inputs do contain infinities or NaNs.\n",
      "    assume_a : str, optional\n",
      "        Valid entries are explained above.\n",
      "    transposed: bool, optional\n",
      "        If True, ``a^T x = b`` for real matrices, raises `NotImplementedError`\n",
      "        for complex matrices (only for True).\n",
      "    \n",
      "    Returns\n",
      "    -------\n",
      "    x : (N, NRHS) ndarray\n",
      "        The solution array.\n",
      "    \n",
      "    Raises\n",
      "    ------\n",
      "    ValueError\n",
      "        If size mismatches detected or input a is not square.\n",
      "    LinAlgError\n",
      "        If the matrix is singular.\n",
      "    LinAlgWarning\n",
      "        If an ill-conditioned input a is detected.\n",
      "    NotImplementedError\n",
      "        If transposed is True and input a is a complex matrix.\n",
      "    \n",
      "    Examples\n",
      "    --------\n",
      "    Given `a` and `b`, solve for `x`:\n",
      "    \n",
      "    >>> a = np.array([[3, 2, 0], [1, -1, 0], [0, 5, 1]])\n",
      "    >>> b = np.array([2, 4, -1])\n",
      "    >>> from scipy import linalg\n",
      "    >>> x = linalg.solve(a, b)\n",
      "    >>> x\n",
      "    array([ 2., -2.,  9.])\n",
      "    >>> np.dot(a, x) == b\n",
      "    array([ True,  True,  True], dtype=bool)\n",
      "    \n",
      "    Notes\n",
      "    -----\n",
      "    If the input b matrix is a 1D array with N elements, when supplied\n",
      "    together with an NxN input a, it is assumed as a valid column vector\n",
      "    despite the apparent size mismatch. This is compatible with the\n",
      "    numpy.dot() behavior and the returned result is still 1D array.\n",
      "    \n",
      "    The generic, symmetric, hermitian and positive definite solutions are\n",
      "    obtained via calling ?GESV, ?SYSV, ?HESV, and ?POSV routines of\n",
      "    LAPACK respectively.\n",
      "\n"
     ]
    }
   ],
   "source": [
    "scipy.linalg.eigvals(A)\n",
    "\n",
    "scipy.linalg.lu(A) # LU decomposition in Matrix Theory\n",
    "\n",
    "# linear solvers...\n",
    "\n",
    "help(scipy.linalg.solve)"
   ]
  },
  {
   "cell_type": "code",
   "execution_count": 112,
   "metadata": {
    "slideshow": {
     "slide_type": "slide"
    }
   },
   "outputs": [
    {
     "data": {
      "text/plain": [
       "-0.2600519549019335"
      ]
     },
     "execution_count": 112,
     "metadata": {},
     "output_type": "execute_result"
    }
   ],
   "source": [
    "# special functions\n",
    "\n",
    "scipy.special.zeta(0,1)\n",
    "scipy.special.airy(0)\n",
    "scipy.special.jn(0,3) # Bessel function"
   ]
  },
  {
   "cell_type": "code",
   "execution_count": 119,
   "metadata": {
    "slideshow": {
     "slide_type": "slide"
    }
   },
   "outputs": [],
   "source": [
    "# interpolation functions\n",
    "\n",
    "import scipy.interpolate\n",
    "\n",
    "x = np.arange(0,10)\n",
    "\n",
    "scipy.interpolate.lagrange(x, np.sin(x))\n",
    "\n",
    "# root finding\n",
    "# integration\n",
    "# ODE methods\n",
    "\n",
    "pass # we are passing, \n",
    "     # but please know SciPy has everything you will ever need."
   ]
  },
  {
   "cell_type": "markdown",
   "metadata": {
    "slideshow": {
     "slide_type": "slide"
    }
   },
   "source": [
    "# Part 3: Pandas\n",
    "\n",
    "We did this last because it is some people's first foray into Python.\n",
    "\n",
    "The idea is that there are tons of other methods out there besides what is included in Pandas.\n",
    "\n",
    "Pandas adds three nice abstractions:\n",
    "1. Series\n",
    "2. DataFrame\n",
    "3. Panel"
   ]
  },
  {
   "cell_type": "code",
   "execution_count": 141,
   "metadata": {
    "slideshow": {
     "slide_type": "slide"
    }
   },
   "outputs": [
    {
     "name": "stdout",
     "output_type": "stream",
     "text": [
      "0    2\n",
      "1    8\n",
      "2    7\n",
      "3    1\n",
      "4    6\n",
      "5    9\n",
      "6    5\n",
      "7    4\n",
      "8    7\n",
      "9    3\n",
      "dtype: int64\n"
     ]
    }
   ],
   "source": [
    "import pandas as pd\n",
    "\n",
    "ser = pd.Series(data.ravel())\n",
    "\n",
    "temp = ser[0:10] # index is automatically created\n",
    "\n",
    "print(temp)"
   ]
  },
  {
   "cell_type": "code",
   "execution_count": 139,
   "metadata": {
    "slideshow": {
     "slide_type": "slide"
    }
   },
   "outputs": [
    {
     "name": "stdout",
     "output_type": "stream",
     "text": [
      "['January', 'February', 'March', 'April', 'May']\n",
      "January     2\n",
      "February    8\n",
      "March       7\n",
      "April       1\n",
      "May         6\n",
      "dtype: int64\n"
     ]
    }
   ],
   "source": [
    "import calendar as cal\n",
    "\n",
    "monthNames=[cal.month_name[i] for i in np.arange(1,6)]\n",
    "\n",
    "print(monthNames)\n",
    "\n",
    "months=pd.Series(data.ravel()[0:5],index=monthNames)\n",
    "\n",
    "print(months) # labeled univariate data"
   ]
  },
  {
   "cell_type": "code",
   "execution_count": 153,
   "metadata": {
    "slideshow": {
     "slide_type": "slide"
    }
   },
   "outputs": [
    {
     "name": "stdout",
     "output_type": "stream",
     "text": [
      "          data1  temp\n",
      "0           NaN   2.0\n",
      "1           NaN   8.0\n",
      "2           NaN   7.0\n",
      "3           NaN   1.0\n",
      "4           NaN   6.0\n",
      "5           NaN   9.0\n",
      "6           NaN   5.0\n",
      "7           NaN   4.0\n",
      "8           NaN   7.0\n",
      "9           NaN   3.0\n",
      "April       1.0   NaN\n",
      "February    8.0   NaN\n",
      "January     2.0   NaN\n",
      "March       7.0   NaN\n",
      "May         6.0   NaN\n"
     ]
    }
   ],
   "source": [
    "# DataFrame from dictionary of series\n",
    "\n",
    "datadict = dict(data1=months, temp=temp)\n",
    "\n",
    "dataframe = pd.DataFrame(datadict)\n",
    "\n",
    "print(dataframe) # automatic merging!\n",
    "\n",
    "# Panel is 3D object similar to Series to DataFrame"
   ]
  },
  {
   "cell_type": "code",
   "execution_count": 158,
   "metadata": {
    "slideshow": {
     "slide_type": "slide"
    }
   },
   "outputs": [
    {
     "data": {
      "text/plain": [
       "2.0"
      ]
     },
     "execution_count": 158,
     "metadata": {},
     "output_type": "execute_result"
    }
   ],
   "source": [
    "dataframe.temp # access by dot operator\n",
    "\n",
    "dataframe.iloc[0,1] # array-like retrieval"
   ]
  },
  {
   "cell_type": "code",
   "execution_count": 165,
   "metadata": {
    "slideshow": {
     "slide_type": "slide"
    }
   },
   "outputs": [
    {
     "name": "stdout",
     "output_type": "stream",
     "text": [
      "   Unnamed: 0  data1  temp\n",
      "0           0    NaN   2.0\n",
      "1           1    NaN   8.0\n",
      "2           2    NaN   7.0\n",
      "3           3    NaN   1.0\n",
      "4           4    NaN   6.0\n",
      "5           5    NaN   9.0\n",
      "6           6    NaN   5.0\n",
      "7           7    NaN   4.0\n",
      "8           8    NaN   7.0\n",
      "9           9    NaN   3.0\n",
      "10      April    1.0   NaN\n",
      "11   February    8.0   NaN\n",
      "12    January    2.0   NaN\n",
      "13      March    7.0   NaN\n",
      "14        May    6.0   NaN\n",
      "            data1  temp\n",
      "Unnamed: 0             \n",
      "0             NaN   2.0\n",
      "1             NaN   8.0\n",
      "2             NaN   7.0\n",
      "3             NaN   1.0\n",
      "4             NaN   6.0\n",
      "5             NaN   9.0\n",
      "6             NaN   5.0\n",
      "7             NaN   4.0\n",
      "8             NaN   7.0\n",
      "9             NaN   3.0\n",
      "April         1.0   NaN\n",
      "February      8.0   NaN\n",
      "January       2.0   NaN\n",
      "March         7.0   NaN\n",
      "May           6.0   NaN\n"
     ]
    }
   ],
   "source": [
    "dataframe.to_csv(\"save.csv\")\n",
    "\n",
    "dataframe_read = pd.read_csv(\"save.csv\")\n",
    "\n",
    "print(dataframe_read)\n",
    "\n",
    "print(dataframe_read.set_index(\"Unnamed: 0\")) # now has right index"
   ]
  },
  {
   "cell_type": "markdown",
   "metadata": {
    "slideshow": {
     "slide_type": "slide"
    }
   },
   "source": [
    "# Practice, practice, practice\n",
    "\n",
    "This covered ~1% of Pandas, 1% of SciPy and 5% of NumPy.\n",
    "\n",
    "The point is there is a lot of great software and clever patterns.\n",
    "\n",
    "Take your time to practice solving problems in different ways.\n",
    "\n",
    "As an exercise, you may use everything here in the Python module assesment.\n",
    "\n",
    "If you completed it, try the assignment again and see how short you can make each task."
   ]
  }
 ],
 "metadata": {
  "celltoolbar": "Slideshow",
  "kernelspec": {
   "display_name": "Python 3",
   "language": "python",
   "name": "python3"
  },
  "language_info": {
   "codemirror_mode": {
    "name": "ipython",
    "version": 3
   },
   "file_extension": ".py",
   "mimetype": "text/x-python",
   "name": "python",
   "nbconvert_exporter": "python",
   "pygments_lexer": "ipython3",
   "version": "3.7.3"
  }
 },
 "nbformat": 4,
 "nbformat_minor": 2
}
